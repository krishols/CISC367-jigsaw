{
 "cells": [
  {
   "cell_type": "markdown",
   "metadata": {},
   "source": [
    "# Pie Charts\n",
    "### What is a pie chart?\n",
    "A pie chart is a type of graph in which a circle is divided into sectors that each represent a proportion of the whole. \n",
    "\n",
    "### <span style=\"color:green\">**Think about it...**</span>\n",
    "#### <span style=\"color:green\">**When you come across text in green take some time to write an answer to the questions before reading on!**</span>\n",
    "\n",
    "#### <span style=\"color:green\">Where have you seen pie charts used in the past?</span>"
   ]
  },
  {
   "cell_type": "markdown",
   "metadata": {},
   "source": [
    "______"
   ]
  },
  {
   "cell_type": "markdown",
   "metadata": {},
   "source": [
    "### What are pie charts used for? \n",
    "- Pie charts represent data as part of a whole set\n",
    "- Pie charts show percentages - the entire circle represents 100%\n",
    "- Pie charts are best when one has 2 - 5 data points that are significantly different\n",
    "\n",
    "#### <span style=\"color:green\">What is an example of data that would be well represented with a pie chart?</span>"
   ]
  },
  {
   "cell_type": "markdown",
   "metadata": {},
   "source": [
    "______"
   ]
  },
  {
   "cell_type": "markdown",
   "metadata": {},
   "source": [
    "### What are mistakes people make with pie charts?\n",
    "**BEWARE: Pie charts are controversial! Some people don't like pie charts because they can be challenging to read and understand if not thoughtfully made. Here are some challenges and mistakes regarding pie charts.**\n",
    "- Pie  charts communicate percentage of a whole but don't always well-represent magnitude of data\n",
    "- Not organizing pie chart slices from largest to smallest in one direction\n",
    "- Using too many slices \n",
    "    - rule of thumb: don't use a pie chart with more than 5 slices\n",
    "- Using 3D pie charts\n",
    "    - these are confusing and don't help represent data any better than a 2D pie chart\n",
    "- Making multiple pie charts to compare to each other\n",
    "    - comparing pie charts is overwhelming and not visually appealing\n",
    "    \n",
    "#### <span style=\"color:green\">Run the following code to make two basic pie charts. Which pie chart is easier to read? Why?</span>\n",
    "   "
   ]
  },
  {
   "cell_type": "code",
   "execution_count": null,
   "metadata": {},
   "outputs": [],
   "source": [
    "import pandas as pd\n",
    "import numpy as np\n",
    "import matplotlib.pyplot as plt\n",
    "data1 = np.array([5, 12, 17, 20])\n",
    "data2 = np.array([1, 1, 1, 4, 5, 7, 8, 12, 15, 16, 22, 23, 24])\n",
    "plt.pie(data1)\n",
    "plt.show()\n",
    "plt.pie(data2)\n",
    "plt.show()"
   ]
  },
  {
   "cell_type": "markdown",
   "metadata": {},
   "source": [
    "#### <span style=\"color:green\">Which pie chart is easier to visually comprehend? Why do you think so?</span>\n",
    "   \n",
    "_______"
   ]
  },
  {
   "cell_type": "markdown",
   "metadata": {},
   "source": [
    "### What do pie charts look like in Python?\n",
    "Run the following code to see what a pie chart looks like in Python"
   ]
  },
  {
   "cell_type": "code",
   "execution_count": null,
   "metadata": {},
   "outputs": [],
   "source": [
    "colors_data = [10, 23, 35]\n",
    "df = pd.DataFrame(colors_data, index=['Red', 'Yellow', 'Blue'], columns=['Num Votes'])\n",
    "df.plot.pie(y='Num Votes', colors=['red', 'yellow', 'cornflowerblue'], figsize=(5, 5), title=\"Favorite Colors of Class of 2021\", legend=False, autopct='%1.1f%%', fontsize=15)"
   ]
  },
  {
   "cell_type": "markdown",
   "metadata": {},
   "source": [
    "____"
   ]
  },
  {
   "cell_type": "markdown",
   "metadata": {},
   "source": [
    "### What code do we use to generate pie charts?\n",
    "Let's unpack the code from above and expand on it. \n",
    "\n",
    "First: create a list named `colors_data` that represent the number of votes per color. \n",
    "``` python\n",
    "colors_data = [10, 23, 35]\n",
    "```\n",
    "\n",
    "Second: create a Pandas DataFrame passing in `colors_data` as the data, naming the index (rows) 'Red', 'Yellow', and 'Blue' to represent the color of each row, and naming the column 'Num Votes'.\n",
    "\n",
    "``` python\n",
    "df = pd.DataFrame(colors_data, index=['Red', 'Yellow', 'Blue'], columns=['Num Votes'])\n",
    "```\n",
    "\n",
    "Finally, call `df.plot.pie()` to draw the graph. \n",
    "\n",
    "Let's unpack each parameter. `y` is the column or label of the data in the DataFrame to be plotted in the pie chart. \n",
    "\n",
    "`colors` represents which color each row's slice will be in the chart.\n",
    "\n",
    "`figsize` indicates the size of the plot in inches `(width, height)`\n",
    "\n",
    "`title` is the title of the graph. Make sure it's descriptive and matches the data!\n",
    "\n",
    "`legend` is set to False. If set to True, a legend will be created. It was not necessary in this instance because the label of each slice is descriptive. \n",
    "\n",
    "`autopct` displays each slice's percentage using Python string formatting. \n",
    "\n",
    "`fontsize` indicates the size of the font on the graph.\n",
    "\n",
    "``` python\n",
    "df.plot.pie(y='Num Votes', colors=['red', 'yellow', 'cornflowerblue'], figsize=(5,5), title=\"Favorite Colors of Class of 2021\", legend=False, autopct='%1.1f%%', fontsize=15)\n",
    "```\n",
    "### <span style=\"color:green\"> Provided is a list of number of votes. The votes represent the answer to a poll: Which weekend day is better, Saturday or Sunday? </span>\n",
    "\n",
    "### <span style=\"color:green\"> Make a Pandas DataFrame representing this data and plot it as a pie chart. Make Saturday's slice green and Sunday's slice orange.</span>"
   ]
  },
  {
   "cell_type": "code",
   "execution_count": 63,
   "metadata": {},
   "outputs": [],
   "source": [
    "# list of votes\n",
    "weekend_votes = [100, 133]\n",
    "# Make Pandas DataFrame\n",
    "# Make plot"
   ]
  },
  {
   "cell_type": "markdown",
   "metadata": {},
   "source": [
    "### What are some alternative visualizations to pie chart?\n",
    "- percentage bar chart\n",
    "- bar chart"
   ]
  },
  {
   "cell_type": "markdown",
   "metadata": {},
   "source": [
    "### What are some major variations of a pie chart?\n",
    "- donut chart\n",
    "- exploded pie chart\n",
    "\n"
   ]
  },
  {
   "cell_type": "code",
   "execution_count": null,
   "metadata": {},
   "outputs": [],
   "source": []
  }
 ],
 "metadata": {
  "kernelspec": {
   "display_name": "Python 3",
   "language": "python",
   "name": "python3"
  },
  "language_info": {
   "codemirror_mode": {
    "name": "ipython",
    "version": 3
   },
   "file_extension": ".py",
   "mimetype": "text/x-python",
   "name": "python",
   "nbconvert_exporter": "python",
   "pygments_lexer": "ipython3",
   "version": "3.8.5"
  }
 },
 "nbformat": 4,
 "nbformat_minor": 4
}
